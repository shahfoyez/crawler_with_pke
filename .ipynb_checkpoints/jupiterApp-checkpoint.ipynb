{
 "cells": [
  {
   "cell_type": "code",
   "execution_count": 1,
   "id": "fc537632",
   "metadata": {},
   "outputs": [
    {
     "name": "stdout",
     "output_type": "stream",
     "text": [
      "C:\\Users\\Ashraff\\crawlerFreelancerWithPKE\n",
      "C:\\ProgramData\\Anaconda3\\python39.zip\n",
      "C:\\ProgramData\\Anaconda3\\DLLs\n",
      "C:\\ProgramData\\Anaconda3\\lib\n",
      "C:\\ProgramData\\Anaconda3\n",
      "\n",
      "C:\\Users\\Ashraff\\AppData\\Roaming\\Python\\Python39\\site-packages\n",
      "C:\\ProgramData\\Anaconda3\\lib\\site-packages\n",
      "C:\\ProgramData\\Anaconda3\\lib\\site-packages\\win32\n",
      "C:\\ProgramData\\Anaconda3\\lib\\site-packages\\win32\\lib\n",
      "C:\\ProgramData\\Anaconda3\\lib\\site-packages\\Pythonwin\n",
      "C:\\Users\\Ashraff\\crawlerFreelancerWithPKE\\pke\\__init__.py\n"
     ]
    }
   ],
   "source": [
    "import requests\n",
    "from bs4 import BeautifulSoup\n",
    "from csv import writer\n",
    "import pake\n",
    "import pke\n",
    "from pke.unsupervised import *\n",
    "\n",
    "from timeit import default_timer as timer\n",
    "import re\n",
    "import math\n",
    "from collections import Counter\n",
    "import sys\n",
    "for path in sys.path:\n",
    "    print(path)\n",
    "print(pke.__file__)"
   ]
  },
  {
   "cell_type": "code",
   "execution_count": 2,
   "id": "8e6652ec",
   "metadata": {},
   "outputs": [
    {
     "ename": "PermissionError",
     "evalue": "[Errno 13] Permission denied: 'test.csv'",
     "output_type": "error",
     "traceback": [
      "\u001b[1;31m---------------------------------------------------------------------------\u001b[0m",
      "\u001b[1;31mPermissionError\u001b[0m                           Traceback (most recent call last)",
      "Input \u001b[1;32mIn [2]\u001b[0m, in \u001b[0;36m<cell line: 66>\u001b[1;34m()\u001b[0m\n\u001b[0;32m     63\u001b[0m                 i\u001b[38;5;241m+\u001b[39m\u001b[38;5;241m=\u001b[39m\u001b[38;5;241m1\u001b[39m\n\u001b[0;32m     64\u001b[0m             page \u001b[38;5;241m+\u001b[39m\u001b[38;5;241m=\u001b[39m \u001b[38;5;241m1\u001b[39m\n\u001b[1;32m---> 66\u001b[0m \u001b[43mtrade_spider\u001b[49m\u001b[43m(\u001b[49m\u001b[38;5;241;43m30\u001b[39;49m\u001b[43m)\u001b[49m\n",
      "Input \u001b[1;32mIn [2]\u001b[0m, in \u001b[0;36mtrade_spider\u001b[1;34m(max_pages)\u001b[0m\n\u001b[0;32m      1\u001b[0m \u001b[38;5;28;01mdef\u001b[39;00m \u001b[38;5;21mtrade_spider\u001b[39m(max_pages):\n\u001b[0;32m      2\u001b[0m     page \u001b[38;5;241m=\u001b[39m \u001b[38;5;241m21\u001b[39m\n\u001b[1;32m----> 3\u001b[0m     \u001b[38;5;28;01mwith\u001b[39;00m \u001b[38;5;28;43mopen\u001b[39;49m\u001b[43m(\u001b[49m\u001b[38;5;124;43m'\u001b[39;49m\u001b[38;5;124;43mtest.csv\u001b[39;49m\u001b[38;5;124;43m'\u001b[39;49m\u001b[43m,\u001b[49m\u001b[43m \u001b[49m\u001b[38;5;124;43m'\u001b[39;49m\u001b[38;5;124;43mw\u001b[39;49m\u001b[38;5;124;43m'\u001b[39;49m\u001b[43m,\u001b[49m\u001b[43m \u001b[49m\u001b[43mencoding\u001b[49m\u001b[43m \u001b[49m\u001b[38;5;241;43m=\u001b[39;49m\u001b[43m \u001b[49m\u001b[38;5;124;43m'\u001b[39;49m\u001b[38;5;124;43mutf8\u001b[39;49m\u001b[38;5;124;43m'\u001b[39;49m\u001b[43m,\u001b[49m\u001b[43m \u001b[49m\u001b[43mnewline\u001b[49m\u001b[38;5;241;43m=\u001b[39;49m\u001b[38;5;124;43m'\u001b[39;49m\u001b[38;5;124;43m'\u001b[39;49m\u001b[43m)\u001b[49m \u001b[38;5;28;01mas\u001b[39;00m f:\n\u001b[0;32m      4\u001b[0m         thewriter \u001b[38;5;241m=\u001b[39m writer(f)\n\u001b[0;32m      5\u001b[0m         header \u001b[38;5;241m=\u001b[39m [\u001b[38;5;124m'\u001b[39m\u001b[38;5;124mtitle\u001b[39m\u001b[38;5;124m'\u001b[39m, \u001b[38;5;124m'\u001b[39m\u001b[38;5;124mabstract\u001b[39m\u001b[38;5;124m'\u001b[39m, \u001b[38;5;124m'\u001b[39m\u001b[38;5;124mkeyphrases\u001b[39m\u001b[38;5;124m'\u001b[39m]\n",
      "\u001b[1;31mPermissionError\u001b[0m: [Errno 13] Permission denied: 'test.csv'"
     ]
    }
   ],
   "source": [
    "def trade_spider(max_pages):\n",
    "    page = 21\n",
    "    with open('train.csv', 'w', encoding = 'utf8', newline='') as f:\n",
    "        thewriter = writer(f)\n",
    "        header = ['title', 'abstract', 'keyphrases']\n",
    "        thewriter.writerow(header)\n",
    "        while page <= max_pages:\n",
    "            # url = \"https://www.freelancer.com/jobs/php/\"+str(page)+\"/?languages=en&fixed=true&hourly=true\"\n",
    "            url = \"https://www.freelancer.com/jobs/\"+str(page)+\"/?fixed=true&hourly=true&languages=en\"\n",
    "            print( url)\n",
    "            source_code = requests.get( url )\n",
    "            plain_text =  source_code.text\n",
    "            soup = BeautifulSoup(plain_text, features=\"html.parser\")\n",
    "\n",
    "            # for link in soup.findAll('a', {'class': 'JobSearchCard-primary-heading-link'}):\n",
    "            titles = soup.findAll('a', {'class': 'JobSearchCard-primary-heading-link'})\n",
    "            abstracts = soup.findAll('p', {'class': 'JobSearchCard-primary-description'})\n",
    "#             keyphrases = soup.findAll('div', {'class': 'JobSearchCard-primary-tags'})\n",
    "            i = 1\n",
    "            for link, link1 in zip (titles, abstracts):\n",
    "                title = link.string\n",
    "                abstract = link1.string\n",
    "                title = title.strip()\n",
    "                if not abstract:\n",
    "                    abstract = \"Empty String\"\n",
    "                else:\n",
    "                    # to remove space/new line\n",
    "                    abstract = \" \".join(abstract.split())\n",
    "                      \n",
    "                # keyword extraction starts here\n",
    "                doc =  title+\" \"+abstract\n",
    "                outputs = {}\n",
    "                elapsed_times = {}\n",
    "                for model in [PAKE]:\n",
    "                    outputs[model.__name__] = []\n",
    "            \n",
    "                    extractor = model()\n",
    "                    start = timer()\n",
    "                    # for i, doc in enumerate(tqdm(test)):\n",
    "                    print(\"**********************Title + Abstract**********************\")\n",
    "                    print(doc)\n",
    "                    extractor.load_document(input=doc, language='en')\n",
    "                    extractor.grammar_selection(grammar=\"NP: {<ADJ>*<NOUN|PROPN>+}\")\n",
    "                    if model.__name__ in [\"TfIdf\"]:\n",
    "                        extractor.candidate_weighting(df=df)\n",
    "                    elif model.__name__ in [\"TopicalPageRank\"]:\n",
    "                        extractor.candidate_weighting(lda_model=lda_model)\n",
    "                    else:\n",
    "                        extractor.candidate_weighting()\n",
    "                    outputs[model.__name__].append([u for u,v in extractor.get_n_best(n=10, stemming=True)])\n",
    "                    \n",
    "                    \n",
    "                phrase = \"\"\n",
    "                for keyword in outputs[model.__name__][0]:\n",
    "                    key = keyword.strip()\n",
    "                    phrase += key+\", \"\n",
    "                phrase = phrase.strip(\", \")\n",
    "\n",
    "                # inserting to csv\n",
    "                info = [title, abstract, phrase]\n",
    "                thewriter.writerow(info)\n",
    "                print(\"**********************Content from page\", i)\n",
    "                i+=1\n",
    "            page += 1\n",
    "\n",
    "trade_spider(30)"
   ]
  },
  {
   "cell_type": "code",
   "execution_count": null,
   "id": "bc7a83e9",
   "metadata": {},
   "outputs": [],
   "source": [
    " "
   ]
  },
  {
   "cell_type": "code",
   "execution_count": null,
   "id": "ed8a7d0e",
   "metadata": {},
   "outputs": [],
   "source": []
  }
 ],
 "metadata": {
  "kernelspec": {
   "display_name": "Python 3 (ipykernel)",
   "language": "python",
   "name": "python3"
  },
  "language_info": {
   "codemirror_mode": {
    "name": "ipython",
    "version": 3
   },
   "file_extension": ".py",
   "mimetype": "text/x-python",
   "name": "python",
   "nbconvert_exporter": "python",
   "pygments_lexer": "ipython3",
   "version": "3.9.12"
  }
 },
 "nbformat": 4,
 "nbformat_minor": 5
}
